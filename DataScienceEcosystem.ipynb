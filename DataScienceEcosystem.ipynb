{
  "metadata": {
    "kernelspec": {
      "name": "python",
      "display_name": "Python (Pyodide)",
      "language": "python"
    },
    "language_info": {
      "codemirror_mode": {
        "name": "python",
        "version": 3
      },
      "file_extension": ".py",
      "mimetype": "text/x-python",
      "name": "python",
      "nbconvert_exporter": "python",
      "pygments_lexer": "ipython3",
      "version": "3.8"
    }
  },
  "nbformat_minor": 5,
  "nbformat": 4,
  "cells": [
    {
      "id": "a35eeb9f-df70-4ab1-a243-2d2025888eb0",
      "cell_type": "markdown",
      "source": "# Data Science Tools and Ecosystem",
      "metadata": {}
    },
    {
      "id": "d32d7575-f429-4c4f-905d-44973d20a8d0",
      "cell_type": "markdown",
      "source": "In this notebook, Data Science Tools and Ecosystem are summarized.",
      "metadata": {}
    },
    {
      "id": "7310d4ff-f7b3-406c-bf4b-09e6491fe36d",
      "cell_type": "markdown",
      "source": "**Objectives:**\n- Markdown for Jupyter Notbooks\n- Popular Data Science Languages\n- Popular Data Science Libraries\n- How to create an ordered list in Jupyter Markdown\n- How to create an un-ordered list in Jupyter Markdown",
      "metadata": {}
    },
    {
      "id": "df353081-e40f-41b5-bd75-e37d3c95d028",
      "cell_type": "markdown",
      "source": "Some of the popular languages that Data Scientists use are:\n1. python\n2. R\n3. SQL\n4. Julia\n5. Scala\n6. MATLAB",
      "metadata": {}
    },
    {
      "id": "d5157cb6-0b6f-4f9c-a39f-4fc3579b9de3",
      "cell_type": "markdown",
      "source": "Some of the commonly used libraries used by Data Scientists include:\n1. ggplot\n2. pandas\n3. NumPy\n4. Matplotlib\n5. TensorFlow6. ",
      "metadata": {}
    },
    {
      "id": "3c736bae-89ce-45d0-9a8d-7413193ebc53",
      "cell_type": "markdown",
      "source": "### Data Science Tools",
      "metadata": {}
    },
    {
      "id": "3290ffdc-1289-4a6b-b93a-c71d289d61be",
      "cell_type": "markdown",
      "source": "Data Science Tools|\n------------------\nJupyter Notebooks|\nRStudio|\nApache Zeppelin|\nspyder|\nVSCode|",
      "metadata": {}
    },
    {
      "id": "52d865e9-0e53-4a85-ba6e-2a30c741ca9c",
      "cell_type": "markdown",
      "source": "### Below are a few examples of evaluating arithmetic expressions in Python",
      "metadata": {}
    },
    {
      "id": "f2651e50-81fd-467a-af32-b4c32d40c94a",
      "cell_type": "code",
      "source": "# This a simple arithmetic expression to mutiply then add integers.\n(3*4)+5",
      "metadata": {
        "trusted": true
      },
      "outputs": [
        {
          "execution_count": 8,
          "output_type": "execute_result",
          "data": {
            "text/plain": "17"
          },
          "metadata": {}
        }
      ],
      "execution_count": 8
    },
    {
      "id": "1022e233-5d39-46b7-b7ec-86212e5dc4ac",
      "cell_type": "code",
      "source": "# This will convert 200 minutes to hours by diving by 60\nminutes = 200\nhours = minutes/60\nprint(f'{hours} hours')",
      "metadata": {
        "trusted": true
      },
      "outputs": [
        {
          "name": "stdout",
          "text": "3.3333333333333335 hours\n",
          "output_type": "stream"
        }
      ],
      "execution_count": 9
    },
    {
      "id": "741dc00e-4823-4544-a831-2a60858ca841",
      "cell_type": "markdown",
      "source": "## Author\nCorey MacDonald",
      "metadata": {}
    },
    {
      "id": "422c0fce-4464-4bf6-af08-fe1a416c6b61",
      "cell_type": "markdown",
      "source": "",
      "metadata": {}
    }
  ]
}